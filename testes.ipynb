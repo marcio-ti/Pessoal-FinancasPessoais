{
 "cells": [
  {
   "cell_type": "code",
   "execution_count": 1,
   "metadata": {},
   "outputs": [],
   "source": [
    "import sqlite3"
   ]
  },
  {
   "cell_type": "code",
   "execution_count": 2,
   "metadata": {},
   "outputs": [],
   "source": [
    "conexao = sqlite3.connect('database/financasPessoais.db')"
   ]
  },
  {
   "cell_type": "code",
   "execution_count": 3,
   "metadata": {},
   "outputs": [
    {
     "data": {
      "text/plain": [
       "<sqlite3.Cursor at 0x20a341a0c40>"
      ]
     },
     "execution_count": 3,
     "metadata": {},
     "output_type": "execute_result"
    }
   ],
   "source": [
    "# Definindo um cursor\n",
    "cursor = conexao.cursor()\n",
    "\n",
    "# Criando a tabela (schema)\n",
    "cursor.execute(\"\"\"\n",
    "CREATE TABLE entradas (\n",
    "    id INTEGER NOT NULL PRIMARY KEY AUTOINCREMENT,\n",
    "    descricao TEXT NOT NULL,\n",
    "    valor REAL NOT NULL,\n",
    "    receita_efetivada_bolean BOLEAN NOT NULL,\n",
    "    receita_efetivada_data DATE,\n",
    "    data_vencimento DATE NOT NULL,\n",
    "    categoria VARCHAR(120) NOT NULL,\n",
    "    sub_categoria VARCHAR(120) NOT NULL,\n",
    "    conta_lancamento VARCHAR(100) NOT NULL,\n",
    "    data_lancamento DATE NOT NULL\n",
    ");\n",
    "\"\"\")"
   ]
  }
 ],
 "metadata": {
  "kernelspec": {
   "display_name": ".venv",
   "language": "python",
   "name": "python3"
  },
  "language_info": {
   "codemirror_mode": {
    "name": "ipython",
    "version": 3
   },
   "file_extension": ".py",
   "mimetype": "text/x-python",
   "name": "python",
   "nbconvert_exporter": "python",
   "pygments_lexer": "ipython3",
   "version": "3.11.7"
  }
 },
 "nbformat": 4,
 "nbformat_minor": 2
}
